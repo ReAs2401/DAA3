{
 "cells": [
  {
   "cell_type": "code",
   "execution_count": 1,
   "id": "554841cc-6787-4a96-80bd-e122d70109d0",
   "metadata": {},
   "outputs": [],
   "source": [
    "bin_colors=['Red','Green','Blue','Yellow']"
   ]
  },
  {
   "cell_type": "code",
   "execution_count": 4,
   "id": "74111e79-72de-42fa-a722-0b6bd0fb8473",
   "metadata": {},
   "outputs": [
    {
     "data": {
      "text/plain": [
       "'Yellow'"
      ]
     },
     "execution_count": 4,
     "metadata": {},
     "output_type": "execute_result"
    }
   ],
   "source": [
    " bin_colors[3]"
   ]
  },
  {
   "cell_type": "code",
   "execution_count": null,
   "id": "8738aeff-2ce2-43df-92be-50e283233470",
   "metadata": {},
   "outputs": [],
   "source": []
  }
 ],
 "metadata": {
  "kernelspec": {
   "display_name": "Python 3 (ipykernel)",
   "language": "python",
   "name": "python3"
  },
  "language_info": {
   "codemirror_mode": {
    "name": "ipython",
    "version": 3
   },
   "file_extension": ".py",
   "mimetype": "text/x-python",
   "name": "python",
   "nbconvert_exporter": "python",
   "pygments_lexer": "ipython3",
   "version": "3.9.12"
  }
 },
 "nbformat": 4,
 "nbformat_minor": 5
}
