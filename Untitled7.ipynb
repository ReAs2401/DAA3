{
 "cells": [
  {
   "cell_type": "code",
   "execution_count": 12,
   "id": "05488b66-6cdb-4fa5-85e4-82ab52a021f7",
   "metadata": {},
   "outputs": [],
   "source": [
    "mhsList = [\"Andreas Yuan Saputro\", \"2021071041\", \"Informatika\",\"Desain Analisis Algoritma\",\"14/09/2022\", \"Universitas Pembangunan Jaya\"]"
   ]
  },
  {
   "cell_type": "code",
   "execution_count": 13,
   "id": "536ab854-e878-412b-a778-afc9be0bb8d8",
   "metadata": {},
   "outputs": [
    {
     "name": "stdout",
     "output_type": "stream",
     "text": [
      "UPJ Andreas Yuan Saputro\n",
      "UPJ 2021071041\n",
      "UPJ Informatika\n",
      "UPJ Desain Analisis Algoritma\n",
      "UPJ 14/09/2022\n",
      "UPJ Universitas Pembangunan Jaya\n"
     ]
    }
   ],
   "source": [
    "for aMhs in mhsList:\n",
    "    print (\"UPJ \" + aMhs)"
   ]
  },
  {
   "cell_type": "code",
   "execution_count": null,
   "id": "fa0dd33a-9a73-463e-a7f8-3fb5a6721185",
   "metadata": {},
   "outputs": [],
   "source": []
  },
  {
   "cell_type": "code",
   "execution_count": null,
   "id": "08bf05ba-2eac-4d14-b555-85547feb8fed",
   "metadata": {},
   "outputs": [],
   "source": []
  }
 ],
 "metadata": {
  "kernelspec": {
   "display_name": "Python 3 (ipykernel)",
   "language": "python",
   "name": "python3"
  },
  "language_info": {
   "codemirror_mode": {
    "name": "ipython",
    "version": 3
   },
   "file_extension": ".py",
   "mimetype": "text/x-python",
   "name": "python",
   "nbconvert_exporter": "python",
   "pygments_lexer": "ipython3",
   "version": "3.9.12"
  }
 },
 "nbformat": 4,
 "nbformat_minor": 5
}
