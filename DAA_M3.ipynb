{
 "cells": [
  {
   "cell_type": "code",
   "execution_count": 1,
   "id": "baad309e-ae50-426a-ace9-11ee193ab5f0",
   "metadata": {},
   "outputs": [],
   "source": [
    "aList =[\"John\",33,\"Toronto\",True]"
   ]
  },
  {
   "cell_type": "code",
   "execution_count": 2,
   "id": "ced2074b-ebce-4ecd-9860-16fab52bd605",
   "metadata": {},
   "outputs": [
    {
     "name": "stdout",
     "output_type": "stream",
     "text": [
      "['John', 33, 'Toronto', True]\n"
     ]
    }
   ],
   "source": [
    "print(aList)"
   ]
  },
  {
   "cell_type": "code",
   "execution_count": null,
   "id": "d25f5cf0-4073-4bad-b490-84dc9790f410",
   "metadata": {},
   "outputs": [],
   "source": []
  }
 ],
 "metadata": {
  "kernelspec": {
   "display_name": "Python 3 (ipykernel)",
   "language": "python",
   "name": "python3"
  },
  "language_info": {
   "codemirror_mode": {
    "name": "ipython",
    "version": 3
   },
   "file_extension": ".py",
   "mimetype": "text/x-python",
   "name": "python",
   "nbconvert_exporter": "python",
   "pygments_lexer": "ipython3",
   "version": "3.9.12"
  }
 },
 "nbformat": 4,
 "nbformat_minor": 5
}
