{
 "cells": [
  {
   "cell_type": "code",
   "execution_count": 12,
   "id": "5d4c7911-172f-494b-82a8-1775a60c5c29",
   "metadata": {},
   "outputs": [],
   "source": [
    "import datetime"
   ]
  },
  {
   "cell_type": "code",
   "execution_count": 16,
   "id": "3096846b-1dd4-4da6-8dde-77c0b3b6d4ac",
   "metadata": {},
   "outputs": [],
   "source": [
    "mhsList=[\"Andreas Yuan Saputro\", 2021071041, \"Informatika\",\"Desain Analisis Algoritma\",\"14/09/2022\", \"Universitas Pembangunan Jaya\"]"
   ]
  },
  {
   "cell_type": "code",
   "execution_count": 14,
   "id": "ade9323b-6ed7-4b28-847b-fc1c40c0b549",
   "metadata": {},
   "outputs": [
    {
     "name": "stdout",
     "output_type": "stream",
     "text": [
      "['Andreas Yuan Saputro', 2021071041, 'Informatika', 'Desain Analisis Algoritma', '14/09/2022', 'Universitas Pembangunan Jaya']\n"
     ]
    }
   ],
   "source": [
    "print (mhsList)"
   ]
  },
  {
   "cell_type": "code",
   "execution_count": null,
   "id": "5f7a2dcb-f5ff-4073-a9ef-872f0ba57070",
   "metadata": {},
   "outputs": [],
   "source": []
  },
  {
   "cell_type": "code",
   "execution_count": null,
   "id": "e3e7996a-4574-40be-8a1a-9c667f305d01",
   "metadata": {},
   "outputs": [],
   "source": []
  },
  {
   "cell_type": "code",
   "execution_count": null,
   "id": "a929b4b0-a595-4124-931e-5b355925c279",
   "metadata": {},
   "outputs": [],
   "source": []
  }
 ],
 "metadata": {
  "kernelspec": {
   "display_name": "Python 3 (ipykernel)",
   "language": "python",
   "name": "python3"
  },
  "language_info": {
   "codemirror_mode": {
    "name": "ipython",
    "version": 3
   },
   "file_extension": ".py",
   "mimetype": "text/x-python",
   "name": "python",
   "nbconvert_exporter": "python",
   "pygments_lexer": "ipython3",
   "version": "3.9.12"
  }
 },
 "nbformat": 4,
 "nbformat_minor": 5
}
