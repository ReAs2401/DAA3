{
 "cells": [
  {
   "cell_type": "code",
   "execution_count": 16,
   "id": "c870e3f7-2311-4d66-b9ec-903d904979ec",
   "metadata": {},
   "outputs": [],
   "source": [
    "bin_colors ={\n",
    "\"manual_color\": \"Yellow\",\n",
    "\"approved_color\": \"Green\",\n",
    "\"refused_color\": \"Red\"\n",
    "}\n"
   ]
  },
  {
   "cell_type": "code",
   "execution_count": 17,
   "id": "6829ff31-c1e2-41fe-84d1-8364e945486f",
   "metadata": {},
   "outputs": [
    {
     "name": "stdout",
     "output_type": "stream",
     "text": [
      "{'manual_color': 'Yellow', 'approved_color': 'Green', 'refused_color': 'Red'}\n"
     ]
    }
   ],
   "source": [
    "print(bin_colors)\n"
   ]
  },
  {
   "cell_type": "code",
   "execution_count": 18,
   "id": "a3ba3d3c-b4f7-4518-8755-c7c563b98716",
   "metadata": {},
   "outputs": [
    {
     "data": {
      "text/plain": [
       "'Green'"
      ]
     },
     "execution_count": 18,
     "metadata": {},
     "output_type": "execute_result"
    }
   ],
   "source": [
    "bin_colors.get('approved_color')"
   ]
  },
  {
   "cell_type": "code",
   "execution_count": 19,
   "id": "f83847a8-06cc-41e5-b31e-b070d60718a7",
   "metadata": {},
   "outputs": [
    {
     "data": {
      "text/plain": [
       "'Green'"
      ]
     },
     "execution_count": 19,
     "metadata": {},
     "output_type": "execute_result"
    }
   ],
   "source": [
    "bin_colors['approved_color']"
   ]
  },
  {
   "cell_type": "code",
   "execution_count": 21,
   "id": "9c182936-5057-43a3-a186-432b03d179f5",
   "metadata": {},
   "outputs": [
    {
     "name": "stdout",
     "output_type": "stream",
     "text": [
      "{'manual_color': 'Yellow', 'approved_color': 'purple', 'refused_color': 'Red'}\n"
     ]
    }
   ],
   "source": [
    "bin_colors['approved_color']=\"purple\"\n",
    "print(bin_colors)\n"
   ]
  },
  {
   "cell_type": "code",
   "execution_count": null,
   "id": "44fb2ca4-ff5a-4984-928a-fd6a0f8446ef",
   "metadata": {},
   "outputs": [],
   "source": []
  }
 ],
 "metadata": {
  "kernelspec": {
   "display_name": "Python 3 (ipykernel)",
   "language": "python",
   "name": "python3"
  },
  "language_info": {
   "codemirror_mode": {
    "name": "ipython",
    "version": 3
   },
   "file_extension": ".py",
   "mimetype": "text/x-python",
   "name": "python",
   "nbconvert_exporter": "python",
   "pygments_lexer": "ipython3",
   "version": "3.9.12"
  }
 },
 "nbformat": 4,
 "nbformat_minor": 5
}
