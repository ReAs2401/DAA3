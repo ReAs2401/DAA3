{
 "cells": [
  {
   "cell_type": "code",
   "execution_count": 6,
   "id": "e7bcd8dd-6386-4e15-a112-01c77b9a827b",
   "metadata": {},
   "outputs": [],
   "source": [
    "upjList = (\" Universitas\", \"Pembangunan\", \"Jaya\")"
   ]
  },
  {
   "cell_type": "code",
   "execution_count": 10,
   "id": "e6fc4fd5-3446-4ea2-b008-18770775ed4f",
   "metadata": {},
   "outputs": [
    {
     "data": {
      "text/plain": [
       "(' Universitas', 'Pembangunan', 'Jaya')"
      ]
     },
     "execution_count": 10,
     "metadata": {},
     "output_type": "execute_result"
    }
   ],
   "source": [
    "upjList[0:3]"
   ]
  },
  {
   "cell_type": "code",
   "execution_count": null,
   "id": "a921d676-eaf7-44ed-8f20-5de2e36b0c35",
   "metadata": {},
   "outputs": [],
   "source": []
  }
 ],
 "metadata": {
  "kernelspec": {
   "display_name": "Python 3 (ipykernel)",
   "language": "python",
   "name": "python3"
  },
  "language_info": {
   "codemirror_mode": {
    "name": "ipython",
    "version": 3
   },
   "file_extension": ".py",
   "mimetype": "text/x-python",
   "name": "python",
   "nbconvert_exporter": "python",
   "pygments_lexer": "ipython3",
   "version": "3.9.12"
  }
 },
 "nbformat": 4,
 "nbformat_minor": 5
}
