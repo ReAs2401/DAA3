{
 "cells": [
  {
   "cell_type": "code",
   "execution_count": 1,
   "id": "8d0563a9-93d4-454b-9c37-389bb190c627",
   "metadata": {},
   "outputs": [],
   "source": [
    "yellow = {'dandelions','leaves','fire hydrant'}\n",
    "red = {'rose','blood','leaves','fire hydrant'}"
   ]
  },
  {
   "cell_type": "code",
   "execution_count": 2,
   "id": "81572242-5609-4623-96fb-6e2176655326",
   "metadata": {},
   "outputs": [
    {
     "data": {
      "text/plain": [
       "{'blood', 'dandelions', 'fire hydrant', 'leaves', 'rose'}"
      ]
     },
     "execution_count": 2,
     "metadata": {},
     "output_type": "execute_result"
    }
   ],
   "source": [
    "yellow|red"
   ]
  },
  {
   "cell_type": "code",
   "execution_count": 3,
   "id": "43b49637-e08e-46dc-8cfd-9deaacbeada5",
   "metadata": {},
   "outputs": [
    {
     "data": {
      "text/plain": [
       "{'fire hydrant', 'leaves'}"
      ]
     },
     "execution_count": 3,
     "metadata": {},
     "output_type": "execute_result"
    }
   ],
   "source": [
    "yellow&red"
   ]
  },
  {
   "cell_type": "code",
   "execution_count": null,
   "id": "67afbb5c-55ee-438d-bcdf-dbab464e30de",
   "metadata": {},
   "outputs": [],
   "source": []
  }
 ],
 "metadata": {
  "kernelspec": {
   "display_name": "Python 3 (ipykernel)",
   "language": "python",
   "name": "python3"
  },
  "language_info": {
   "codemirror_mode": {
    "name": "ipython",
    "version": 3
   },
   "file_extension": ".py",
   "mimetype": "text/x-python",
   "name": "python",
   "nbconvert_exporter": "python",
   "pygments_lexer": "ipython3",
   "version": "3.9.12"
  }
 },
 "nbformat": 4,
 "nbformat_minor": 5
}
