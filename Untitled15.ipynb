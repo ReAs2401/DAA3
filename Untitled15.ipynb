{
 "cells": [
  {
   "cell_type": "code",
   "execution_count": 1,
   "id": "73980725-03fb-4a42-8903-5e23a2fc9892",
   "metadata": {},
   "outputs": [],
   "source": [
    "import pandas as pd"
   ]
  },
  {
   "cell_type": "code",
   "execution_count": 8,
   "id": "fe42eece-35f2-4fc3-afc4-0fe15d699cef",
   "metadata": {},
   "outputs": [],
   "source": [
    " df = pd.DataFrame([\n",
    "['1', 'Informatika', 50, 30, 20],\n",
    "['2', 'Sistem Informasi', 55, 30, 25],\n",
    "['3', 'Teknik Sipil', 40, 30, 10]])"
   ]
  },
  {
   "cell_type": "code",
   "execution_count": 9,
   "id": "163887b3-f79d-43a3-9a95-fb4e488b038f",
   "metadata": {},
   "outputs": [],
   "source": [
    "df.columns = ['No.', 'Prodi', 'Mahasiswa', 'laki-laki','Perempuan']"
   ]
  },
  {
   "cell_type": "code",
   "execution_count": 10,
   "id": "68fa6bf2-bbfa-4eaf-b2dd-aea695988f50",
   "metadata": {},
   "outputs": [
    {
     "data": {
      "text/html": [
       "<div>\n",
       "<style scoped>\n",
       "    .dataframe tbody tr th:only-of-type {\n",
       "        vertical-align: middle;\n",
       "    }\n",
       "\n",
       "    .dataframe tbody tr th {\n",
       "        vertical-align: top;\n",
       "    }\n",
       "\n",
       "    .dataframe thead th {\n",
       "        text-align: right;\n",
       "    }\n",
       "</style>\n",
       "<table border=\"1\" class=\"dataframe\">\n",
       "  <thead>\n",
       "    <tr style=\"text-align: right;\">\n",
       "      <th></th>\n",
       "      <th>No.</th>\n",
       "      <th>Prodi</th>\n",
       "      <th>Mahasiswa</th>\n",
       "      <th>laki-laki</th>\n",
       "      <th>Perempuan</th>\n",
       "    </tr>\n",
       "  </thead>\n",
       "  <tbody>\n",
       "    <tr>\n",
       "      <th>0</th>\n",
       "      <td>1</td>\n",
       "      <td>Informatika</td>\n",
       "      <td>50</td>\n",
       "      <td>30</td>\n",
       "      <td>20</td>\n",
       "    </tr>\n",
       "    <tr>\n",
       "      <th>1</th>\n",
       "      <td>2</td>\n",
       "      <td>Sistem Informasi</td>\n",
       "      <td>55</td>\n",
       "      <td>30</td>\n",
       "      <td>25</td>\n",
       "    </tr>\n",
       "    <tr>\n",
       "      <th>2</th>\n",
       "      <td>3</td>\n",
       "      <td>Teknik Sipil</td>\n",
       "      <td>40</td>\n",
       "      <td>30</td>\n",
       "      <td>10</td>\n",
       "    </tr>\n",
       "  </tbody>\n",
       "</table>\n",
       "</div>"
      ],
      "text/plain": [
       "  No.             Prodi  Mahasiswa  laki-laki  Perempuan\n",
       "0   1       Informatika         50         30         20\n",
       "1   2  Sistem Informasi         55         30         25\n",
       "2   3      Teknik Sipil         40         30         10"
      ]
     },
     "execution_count": 10,
     "metadata": {},
     "output_type": "execute_result"
    }
   ],
   "source": [
    "df"
   ]
  },
  {
   "cell_type": "code",
   "execution_count": null,
   "id": "73cc142e-878c-41ba-b646-05474f5629a4",
   "metadata": {},
   "outputs": [],
   "source": []
  },
  {
   "cell_type": "code",
   "execution_count": null,
   "id": "7c45345a-13a5-4b05-a009-bfaaeea37da9",
   "metadata": {},
   "outputs": [],
   "source": []
  }
 ],
 "metadata": {
  "kernelspec": {
   "display_name": "Python 3 (ipykernel)",
   "language": "python",
   "name": "python3"
  },
  "language_info": {
   "codemirror_mode": {
    "name": "ipython",
    "version": 3
   },
   "file_extension": ".py",
   "mimetype": "text/x-python",
   "name": "python",
   "nbconvert_exporter": "python",
   "pygments_lexer": "ipython3",
   "version": "3.9.12"
  }
 },
 "nbformat": 4,
 "nbformat_minor": 5
}
