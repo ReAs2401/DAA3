{
 "cells": [
  {
   "cell_type": "code",
   "execution_count": 1,
   "id": "70ed2997-8621-46c4-ab87-6432a3260104",
   "metadata": {},
   "outputs": [],
   "source": [
    "mhsList=[\"Andreas Yuan Saputro\", 2021071041, \"Informatika\",\"Desain Analisis Algoritma\",\"14/09/2022\", \"Universitas Pembangunan Jaya\"]"
   ]
  },
  {
   "cell_type": "code",
   "execution_count": 2,
   "id": "bb723bc3-e56f-4dfb-a256-ecffe57ae432",
   "metadata": {},
   "outputs": [
    {
     "data": {
      "text/plain": [
       "'Universitas Pembangunan Jaya'"
      ]
     },
     "execution_count": 2,
     "metadata": {},
     "output_type": "execute_result"
    }
   ],
   "source": [
    "mhsList[5]"
   ]
  },
  {
   "cell_type": "code",
   "execution_count": null,
   "id": "cdc3bfd9-a63e-4bcd-be1a-5d3c82a1e1bf",
   "metadata": {},
   "outputs": [],
   "source": []
  }
 ],
 "metadata": {
  "kernelspec": {
   "display_name": "Python 3 (ipykernel)",
   "language": "python",
   "name": "python3"
  },
  "language_info": {
   "codemirror_mode": {
    "name": "ipython",
    "version": 3
   },
   "file_extension": ".py",
   "mimetype": "text/x-python",
   "name": "python",
   "nbconvert_exporter": "python",
   "pygments_lexer": "ipython3",
   "version": "3.9.12"
  }
 },
 "nbformat": 4,
 "nbformat_minor": 5
}
