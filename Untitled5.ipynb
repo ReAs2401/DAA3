{
 "cells": [
  {
   "cell_type": "code",
   "execution_count": 3,
   "id": "f4c3a88a-9bf7-4d67-8227-adf0c3a9396c",
   "metadata": {},
   "outputs": [],
   "source": [
    "mhsList=[\"Andreas Yuan Saputro\", 2021071041, \"Informatika\",\"Desain Analisis Algoritma\", \"14/09/2022\", \"Universitas Pembangunan Jaya\"]"
   ]
  },
  {
   "cell_type": "code",
   "execution_count": 18,
   "id": "c68e9c0b-08ff-4a22-90f7-35d8a36e125d",
   "metadata": {},
   "outputs": [
    {
     "data": {
      "text/plain": [
       "['Informatika', 'Desain Analisis Algoritma', '14/09/2022']"
      ]
     },
     "execution_count": 18,
     "metadata": {},
     "output_type": "execute_result"
    }
   ],
   "source": [
    "mhsList[2:5]"
   ]
  },
  {
   "cell_type": "code",
   "execution_count": 17,
   "id": "5422a3a9-59bc-462e-9446-67be18dc62e4",
   "metadata": {},
   "outputs": [
    {
     "data": {
      "text/plain": [
       "('Informatika', 'Universitas Pembangunan Jaya')"
      ]
     },
     "execution_count": 17,
     "metadata": {},
     "output_type": "execute_result"
    }
   ],
   "source": [
    "mhsList[2],mhsList[5]"
   ]
  },
  {
   "cell_type": "code",
   "execution_count": null,
   "id": "f6f370f9-a5ee-4a20-a7c1-4049a2880d49",
   "metadata": {},
   "outputs": [],
   "source": []
  }
 ],
 "metadata": {
  "kernelspec": {
   "display_name": "Python 3 (ipykernel)",
   "language": "python",
   "name": "python3"
  },
  "language_info": {
   "codemirror_mode": {
    "name": "ipython",
    "version": 3
   },
   "file_extension": ".py",
   "mimetype": "text/x-python",
   "name": "python",
   "nbconvert_exporter": "python",
   "pygments_lexer": "ipython3",
   "version": "3.9.12"
  }
 },
 "nbformat": 4,
 "nbformat_minor": 5
}
