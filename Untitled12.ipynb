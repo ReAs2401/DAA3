{
 "cells": [
  {
   "cell_type": "code",
   "execution_count": 7,
   "id": "48c24bf7-34ff-4ac4-bb42-a0817b3ae551",
   "metadata": {},
   "outputs": [],
   "source": [
    "green = {'grass', 'leaves'}"
   ]
  },
  {
   "cell_type": "code",
   "execution_count": 8,
   "id": "58c4073d-03c0-4e47-952c-e139f07107c1",
   "metadata": {},
   "outputs": [
    {
     "name": "stdout",
     "output_type": "stream",
     "text": [
      "{'leaves', 'grass'}\n"
     ]
    }
   ],
   "source": [
    "print(green)"
   ]
  }
 ],
 "metadata": {
  "kernelspec": {
   "display_name": "Python 3 (ipykernel)",
   "language": "python",
   "name": "python3"
  },
  "language_info": {
   "codemirror_mode": {
    "name": "ipython",
    "version": 3
   },
   "file_extension": ".py",
   "mimetype": "text/x-python",
   "name": "python",
   "nbconvert_exporter": "python",
   "pygments_lexer": "ipython3",
   "version": "3.9.12"
  }
 },
 "nbformat": 4,
 "nbformat_minor": 5
}
