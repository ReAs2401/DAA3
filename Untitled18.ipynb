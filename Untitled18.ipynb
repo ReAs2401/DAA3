{
 "cells": [
  {
   "cell_type": "code",
   "execution_count": 9,
   "id": "4c39eeaf-a3dd-4100-8297-2460a20c89ab",
   "metadata": {},
   "outputs": [],
   "source": [
    "class Stack:\n",
    "    def __init__(self):\n",
    "        self.items = []\n",
    "    def isEmpty(self):\n",
    "        return self.items == []\n",
    "    def push(self, item):\n",
    "        self.items.append(item)\n",
    "    def pop(self):\n",
    "        return self.items.pop()\n",
    "    def peek(self):\n",
    "        return self.items[len(self.items)-1]\n",
    "    def size(self):\n",
    "        return len(self.items)\n"
   ]
  },
  {
   "cell_type": "code",
   "execution_count": 10,
   "id": "5928b774-9f3c-4d38-b203-6c9c1593f69a",
   "metadata": {},
   "outputs": [],
   "source": [
    "stack=Stack()\n",
    "stack.push('red')\n",
    "stack.push('green')\n",
    "stack.push('blue')\n",
    "stack.push('yellow')"
   ]
  },
  {
   "cell_type": "code",
   "execution_count": 11,
   "id": "3e0bfcc7-7253-4267-8a38-3ea155321ddd",
   "metadata": {},
   "outputs": [
    {
     "data": {
      "text/plain": [
       "'yellow'"
      ]
     },
     "execution_count": 11,
     "metadata": {},
     "output_type": "execute_result"
    }
   ],
   "source": [
    "stack.pop()"
   ]
  },
  {
   "cell_type": "code",
   "execution_count": 12,
   "id": "cc1af7d4-0afc-4e44-ab8e-ad3f8071ae6d",
   "metadata": {},
   "outputs": [
    {
     "data": {
      "text/plain": [
       "False"
      ]
     },
     "execution_count": 12,
     "metadata": {},
     "output_type": "execute_result"
    }
   ],
   "source": [
    "stack.isEmpty()"
   ]
  },
  {
   "cell_type": "code",
   "execution_count": null,
   "id": "4130f4a4-b0b0-417c-86a6-bcb225124348",
   "metadata": {},
   "outputs": [],
   "source": []
  }
 ],
 "metadata": {
  "kernelspec": {
   "display_name": "Python 3 (ipykernel)",
   "language": "python",
   "name": "python3"
  },
  "language_info": {
   "codemirror_mode": {
    "name": "ipython",
    "version": 3
   },
   "file_extension": ".py",
   "mimetype": "text/x-python",
   "name": "python",
   "nbconvert_exporter": "python",
   "pygments_lexer": "ipython3",
   "version": "3.9.12"
  }
 },
 "nbformat": 4,
 "nbformat_minor": 5
}
