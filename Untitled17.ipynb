{
 "cells": [
  {
   "cell_type": "code",
   "execution_count": 1,
   "id": "349574dd-a2c6-489d-a428-c474fb4ad420",
   "metadata": {},
   "outputs": [],
   "source": [
    "myVector = [22,33,44,55]"
   ]
  },
  {
   "cell_type": "code",
   "execution_count": 2,
   "id": "56ea79f4-4416-47d6-b453-808a3b152e1d",
   "metadata": {},
   "outputs": [
    {
     "name": "stdout",
     "output_type": "stream",
     "text": [
      "[22, 33, 44, 55]\n"
     ]
    }
   ],
   "source": [
    "print(myVector)"
   ]
  },
  {
   "cell_type": "code",
   "execution_count": null,
   "id": "46722f3a-9236-446e-9cdc-d06a91e5e85d",
   "metadata": {},
   "outputs": [
    {
     "name": "stdout",
     "output_type": "stream",
     "text": [
      "<class 'list'>\n"
     ]
    }
   ],
   "source": [
    "print(type(myVector))"
   ]
  },
  {
   "cell_type": "code",
   "execution_count": 6,
   "id": "a6f977d3-944e-498a-865d-1c33845dcf51",
   "metadata": {},
   "outputs": [],
   "source": [
    "import numpy as np"
   ]
  },
  {
   "cell_type": "code",
   "execution_count": 7,
   "id": "0fb3dc17-281c-493c-b34c-267da6b662a7",
   "metadata": {},
   "outputs": [],
   "source": [
    "Vector = np.array([22,33,44,55])"
   ]
  },
  {
   "cell_type": "code",
   "execution_count": 5,
   "id": "38c86857-62fe-40e1-aeac-6cf60e89bca8",
   "metadata": {},
   "outputs": [
    {
     "name": "stdout",
     "output_type": "stream",
     "text": [
      "[22, 33, 44, 55]\n"
     ]
    }
   ],
   "source": [
    "print(myVector)\n"
   ]
  },
  {
   "cell_type": "code",
   "execution_count": 8,
   "id": "572efc2d-ae74-48f8-b80a-9a61488c79ed",
   "metadata": {},
   "outputs": [
    {
     "name": "stdout",
     "output_type": "stream",
     "text": [
      "<class 'list'>\n"
     ]
    }
   ],
   "source": [
    "print(type(myVector))"
   ]
  },
  {
   "cell_type": "code",
   "execution_count": null,
   "id": "60a9a026-b918-4a39-9621-2f4eb71c56ce",
   "metadata": {},
   "outputs": [],
   "source": []
  }
 ],
 "metadata": {
  "kernelspec": {
   "display_name": "Python 3 (ipykernel)",
   "language": "python",
   "name": "python3"
  },
  "language_info": {
   "codemirror_mode": {
    "name": "ipython",
    "version": 3
   },
   "file_extension": ".py",
   "mimetype": "text/x-python",
   "name": "python",
   "nbconvert_exporter": "python",
   "pygments_lexer": "ipython3",
   "version": "3.9.12"
  }
 },
 "nbformat": 4,
 "nbformat_minor": 5
}
