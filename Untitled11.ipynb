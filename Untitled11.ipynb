{
 "cells": [
  {
   "cell_type": "code",
   "execution_count": 2,
   "id": "a40bf00a-8652-4e72-aeb2-2f4b406bd158",
   "metadata": {},
   "outputs": [],
   "source": [
    "Data ={\n",
    "\"Nama\": \"Andreas Yuan Saputro\",\n",
    "\"NIM\": \"2021071041\",\n",
    "\"Prodi\": \"Informatika\",\n",
    "\"Universitas\":\"UPJ\"\n",
    "}"
   ]
  },
  {
   "cell_type": "code",
   "execution_count": 4,
   "id": "093ee989-f5f8-4e28-8389-87b4392130e9",
   "metadata": {},
   "outputs": [
    {
     "name": "stdout",
     "output_type": "stream",
     "text": [
      "{'Nama': 'Andreas Yuan Saputro', 'NIM': '2021071041', 'Prodi': 'Informatika', 'Universitas': 'UPJ'}\n"
     ]
    }
   ],
   "source": [
    "print(Data)"
   ]
  },
  {
   "cell_type": "code",
   "execution_count": 10,
   "id": "79a2ffe0-cac8-402a-a9d3-ade0eb6759b0",
   "metadata": {},
   "outputs": [
    {
     "data": {
      "text/plain": [
       "'Andreas Yuan Saputro'"
      ]
     },
     "execution_count": 10,
     "metadata": {},
     "output_type": "execute_result"
    }
   ],
   "source": [
    "Data.get('Nama')"
   ]
  },
  {
   "cell_type": "code",
   "execution_count": 11,
   "id": "6eef3f16-8fd6-4396-8ecb-40ed535e25b4",
   "metadata": {},
   "outputs": [
    {
     "data": {
      "text/plain": [
       "'Andreas Yuan Saputro'"
      ]
     },
     "execution_count": 11,
     "metadata": {},
     "output_type": "execute_result"
    }
   ],
   "source": [
    "Data['Nama']"
   ]
  },
  {
   "cell_type": "code",
   "execution_count": null,
   "id": "ea61d3ff-46d8-4f80-805e-e739f0278118",
   "metadata": {},
   "outputs": [],
   "source": []
  }
 ],
 "metadata": {
  "kernelspec": {
   "display_name": "Python 3 (ipykernel)",
   "language": "python",
   "name": "python3"
  },
  "language_info": {
   "codemirror_mode": {
    "name": "ipython",
    "version": 3
   },
   "file_extension": ".py",
   "mimetype": "text/x-python",
   "name": "python",
   "nbconvert_exporter": "python",
   "pygments_lexer": "ipython3",
   "version": "3.9.12"
  }
 },
 "nbformat": 4,
 "nbformat_minor": 5
}
