{
 "cells": [
  {
   "cell_type": "code",
   "execution_count": 1,
   "id": "1ef7c9c9-993a-4e0e-839a-78b399a8f7d5",
   "metadata": {},
   "outputs": [],
   "source": [
    "mhsList=[\"Andreas Yuan Saputro\", 2021071041, \"Informatika\",\"Desain Analisis Algoritma\",\"14/09/2022\", \"Universitas Pembangunan Jaya\"]"
   ]
  },
  {
   "cell_type": "code",
   "execution_count": 2,
   "id": "9a082945-3d10-4dbf-bdf7-b50a081adbfa",
   "metadata": {},
   "outputs": [
    {
     "data": {
      "text/plain": [
       "2021071041"
      ]
     },
     "execution_count": 2,
     "metadata": {},
     "output_type": "execute_result"
    }
   ],
   "source": [
    "mhsList[1]"
   ]
  },
  {
   "cell_type": "code",
   "execution_count": null,
   "id": "b1c5224b-417b-4832-bc05-9c0a95e266a5",
   "metadata": {},
   "outputs": [],
   "source": []
  }
 ],
 "metadata": {
  "kernelspec": {
   "display_name": "Python 3 (ipykernel)",
   "language": "python",
   "name": "python3"
  },
  "language_info": {
   "codemirror_mode": {
    "name": "ipython",
    "version": 3
   },
   "file_extension": ".py",
   "mimetype": "text/x-python",
   "name": "python",
   "nbconvert_exporter": "python",
   "pygments_lexer": "ipython3",
   "version": "3.9.12"
  }
 },
 "nbformat": 4,
 "nbformat_minor": 5
}
