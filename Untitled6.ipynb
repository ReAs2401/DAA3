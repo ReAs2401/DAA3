{
 "cells": [
  {
   "cell_type": "code",
   "execution_count": 1,
   "id": "e875bc9d-35b8-4220-989b-3ff10ee14c4a",
   "metadata": {},
   "outputs": [],
   "source": [
    "bin_colors=['Red','Green','Blue','Yellow']"
   ]
  },
  {
   "cell_type": "code",
   "execution_count": 6,
   "id": "7f2a5740-ed55-4f66-9d05-e0f81f2973c6",
   "metadata": {},
   "outputs": [
    {
     "name": "stdout",
     "output_type": "stream",
     "text": [
      "Red Square\n",
      "Green Square\n"
     ]
    }
   ],
   "source": [
    "for aColor in bin_colors[0:2]:\n",
    "    print(aColor + \" Square\")"
   ]
  },
  {
   "cell_type": "code",
   "execution_count": null,
   "id": "4821c4fb-3dd3-43ce-8296-09444b1b976d",
   "metadata": {},
   "outputs": [],
   "source": []
  }
 ],
 "metadata": {
  "kernelspec": {
   "display_name": "Python 3 (ipykernel)",
   "language": "python",
   "name": "python3"
  },
  "language_info": {
   "codemirror_mode": {
    "name": "ipython",
    "version": 3
   },
   "file_extension": ".py",
   "mimetype": "text/x-python",
   "name": "python",
   "nbconvert_exporter": "python",
   "pygments_lexer": "ipython3",
   "version": "3.9.12"
  }
 },
 "nbformat": 4,
 "nbformat_minor": 5
}
